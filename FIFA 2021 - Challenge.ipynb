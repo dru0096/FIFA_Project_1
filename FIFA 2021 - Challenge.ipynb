{
 "cells": [
  {
   "cell_type": "code",
   "execution_count": 6,
   "metadata": {},
   "outputs": [],
   "source": [
    "%matplotlib inline \n",
    "import pandas as pd\n",
    "import numpy as np\n",
    "import matplotlib.pyplot as plt\n",
    "import seaborn as sns"
   ]
  },
  {
   "cell_type": "code",
   "execution_count": 59,
   "metadata": {},
   "outputs": [],
   "source": [
    "file = pd.read_csv(\"Data/fifa21_train.csv\")"
   ]
  },
  {
   "cell_type": "code",
   "execution_count": 162,
   "metadata": {},
   "outputs": [],
   "source": [
    "#display(file)"
   ]
  },
  {
   "cell_type": "code",
   "execution_count": 16,
   "metadata": {},
   "outputs": [
    {
     "name": "stdout",
     "output_type": "stream",
     "text": [
      "<class 'pandas.core.frame.DataFrame'>\n",
      "RangeIndex: 11701 entries, 0 to 11700\n",
      "Columns: 101 entries, ID to OVA\n",
      "dtypes: float64(10), int64(43), object(48)\n",
      "memory usage: 9.0+ MB\n"
     ]
    }
   ],
   "source": [
    "file.info()"
   ]
  },
  {
   "cell_type": "code",
   "execution_count": null,
   "metadata": {},
   "outputs": [],
   "source": []
  },
  {
   "cell_type": "code",
   "execution_count": 20,
   "metadata": {},
   "outputs": [
    {
     "data": {
      "text/plain": [
       "OGC Nice                35\n",
       "Crystal Palace          35\n",
       "Everton                 35\n",
       "Sporting CP             33\n",
       "Chelsea                 33\n",
       "                        ..\n",
       "Kardemir Karabükspor     1\n",
       "Itagüí Leones FC         1\n",
       "Guizhou Hengfeng FC      1\n",
       "Jaguares de Chiapas      1\n",
       "Atlético Huila           1\n",
       "Name: Club, Length: 885, dtype: int64"
      ]
     },
     "metadata": {},
     "output_type": "display_data"
    },
    {
     "data": {
      "text/plain": [
       "Crystal Palace          35\n",
       "OGC Nice                35\n",
       "Everton                 35\n",
       "Chelsea                 33\n",
       "Sporting CP             33\n",
       "                        ..\n",
       "Kardemir Karabükspor     1\n",
       "Itagüí Leones FC         1\n",
       "Guizhou Hengfeng FC      1\n",
       "Halmstads BK             1\n",
       "Atlético Huila           1\n",
       "Name: Club, Length: 886, dtype: int64"
      ]
     },
     "metadata": {},
     "output_type": "display_data"
    },
    {
     "data": {
      "text/plain": [
       "18"
      ]
     },
     "execution_count": 20,
     "metadata": {},
     "output_type": "execute_result"
    }
   ],
   "source": [
    "# display(file['Club'].unique())\n",
    "display(file['Club'].value_counts())\n",
    "\n",
    "display(file['Club'].value_counts(dropna=False))\n",
    "len(file[file['Club'].isna()==True])"
   ]
  },
  {
   "cell_type": "code",
   "execution_count": 21,
   "metadata": {},
   "outputs": [
    {
     "data": {
      "text/plain": [
       "Index(['ID', 'Name', 'Age', 'Nationality', 'Club', 'BP', 'Position',\n",
       "       'Team & Contract', 'Height', 'Weight',\n",
       "       ...\n",
       "       'CDM', 'RDM', 'RWB', 'LB', 'LCB', 'CB', 'RCB', 'RB', 'GK', 'OVA'],\n",
       "      dtype='object', length=101)"
      ]
     },
     "metadata": {},
     "output_type": "display_data"
    }
   ],
   "source": [
    "display(file.columns)"
   ]
  },
  {
   "cell_type": "code",
   "execution_count": 25,
   "metadata": {},
   "outputs": [],
   "source": [
    "file_categorical = file.select_dtypes(object)"
   ]
  },
  {
   "cell_type": "code",
   "execution_count": 163,
   "metadata": {},
   "outputs": [],
   "source": [
    "#display(file_categorical)"
   ]
  },
  {
   "cell_type": "code",
   "execution_count": 27,
   "metadata": {},
   "outputs": [
    {
     "data": {
      "text/plain": [
       "Index(['Name', 'Nationality', 'Club', 'BP', 'Position', 'Team & Contract',\n",
       "       'Height', 'Weight', 'foot', 'Joined', 'Loan Date End', 'Value', 'Wage',\n",
       "       'Release Clause', 'Contract', 'W/F', 'SM', 'A/W', 'D/W', 'IR', 'Hits',\n",
       "       'LS', 'ST', 'RS', 'LW', 'LF', 'CF', 'RF', 'RW', 'LAM', 'CAM', 'RAM',\n",
       "       'LM', 'LCM', 'CM', 'RCM', 'RM', 'LWB', 'LDM', 'CDM', 'RDM', 'RWB', 'LB',\n",
       "       'LCB', 'CB', 'RCB', 'RB', 'GK'],\n",
       "      dtype='object')"
      ]
     },
     "metadata": {},
     "output_type": "display_data"
    }
   ],
   "source": [
    "display(file_categorical.columns)"
   ]
  },
  {
   "cell_type": "code",
   "execution_count": 28,
   "metadata": {},
   "outputs": [],
   "source": [
    "file_numerical = file.select_dtypes(np.number)"
   ]
  },
  {
   "cell_type": "code",
   "execution_count": 164,
   "metadata": {},
   "outputs": [],
   "source": [
    "#display(file_numerical)"
   ]
  },
  {
   "cell_type": "code",
   "execution_count": 30,
   "metadata": {},
   "outputs": [
    {
     "data": {
      "text/plain": [
       "Name                   0\n",
       "Nationality            0\n",
       "Club                  18\n",
       "BP                     0\n",
       "Position             288\n",
       "Team & Contract        0\n",
       "Height                 0\n",
       "Weight                 0\n",
       "foot                   0\n",
       "Joined                41\n",
       "Loan Date End      11072\n",
       "Value                  0\n",
       "Wage                   0\n",
       "Release Clause         0\n",
       "Contract               0\n",
       "W/F                    0\n",
       "SM                     0\n",
       "A/W                   59\n",
       "D/W                   59\n",
       "IR                     0\n",
       "Hits                   0\n",
       "LS                     0\n",
       "ST                     0\n",
       "RS                     0\n",
       "LW                     0\n",
       "LF                     0\n",
       "CF                     0\n",
       "RF                     0\n",
       "RW                     0\n",
       "LAM                    0\n",
       "CAM                    0\n",
       "RAM                    0\n",
       "LM                     0\n",
       "LCM                    0\n",
       "CM                     0\n",
       "RCM                    0\n",
       "RM                     0\n",
       "LWB                    0\n",
       "LDM                    0\n",
       "CDM                    0\n",
       "RDM                    0\n",
       "RWB                    0\n",
       "LB                     0\n",
       "LCB                    0\n",
       "CB                     0\n",
       "RCB                    0\n",
       "RB                     0\n",
       "GK                     0\n",
       "dtype: int64"
      ]
     },
     "metadata": {},
     "output_type": "display_data"
    }
   ],
   "source": [
    "display(file_categorical.isna().sum())"
   ]
  },
  {
   "cell_type": "code",
   "execution_count": 31,
   "metadata": {},
   "outputs": [
    {
     "data": {
      "text/plain": [
       "ID                    0\n",
       "Age                   0\n",
       "Growth                0\n",
       "Attacking             0\n",
       "Crossing              0\n",
       "Finishing             0\n",
       "Heading Accuracy      0\n",
       "Short Passing         0\n",
       "Volleys              41\n",
       "Skill                 0\n",
       "Dribbling             0\n",
       "Curve                41\n",
       "FK Accuracy           0\n",
       "Long Passing          0\n",
       "Ball Control          0\n",
       "Movement              0\n",
       "Acceleration          0\n",
       "Sprint Speed          0\n",
       "Agility              41\n",
       "Reactions             0\n",
       "Balance              41\n",
       "Power                 0\n",
       "Shot Power            0\n",
       "Jumping              41\n",
       "Stamina               0\n",
       "Strength              0\n",
       "Long Shots            0\n",
       "Mentality             0\n",
       "Aggression            0\n",
       "Interceptions         7\n",
       "Positioning           7\n",
       "Vision               41\n",
       "Penalties             0\n",
       "Composure           279\n",
       "Defending             0\n",
       "Marking               0\n",
       "Standing Tackle       0\n",
       "Sliding Tackle       41\n",
       "Goalkeeping           0\n",
       "GK Diving             0\n",
       "GK Handling           0\n",
       "GK Kicking            0\n",
       "GK Positioning        0\n",
       "GK Reflexes           0\n",
       "Total Stats           0\n",
       "Base Stats            0\n",
       "PAC                   0\n",
       "SHO                   0\n",
       "PAS                   0\n",
       "DRI                   0\n",
       "DEF                   0\n",
       "PHY                   0\n",
       "OVA                   0\n",
       "dtype: int64"
      ]
     },
     "metadata": {},
     "output_type": "display_data"
    }
   ],
   "source": [
    "display(file_numerical.isna().sum())"
   ]
  },
  {
   "cell_type": "code",
   "execution_count": 65,
   "metadata": {},
   "outputs": [
    {
     "data": {
      "text/html": [
       "<div>\n",
       "<style scoped>\n",
       "    .dataframe tbody tr th:only-of-type {\n",
       "        vertical-align: middle;\n",
       "    }\n",
       "\n",
       "    .dataframe tbody tr th {\n",
       "        vertical-align: top;\n",
       "    }\n",
       "\n",
       "    .dataframe thead th {\n",
       "        text-align: right;\n",
       "    }\n",
       "</style>\n",
       "<table border=\"1\" class=\"dataframe\">\n",
       "  <thead>\n",
       "    <tr style=\"text-align: right;\">\n",
       "      <th></th>\n",
       "      <th>ID</th>\n",
       "      <th>Name</th>\n",
       "      <th>Age</th>\n",
       "      <th>Nationality</th>\n",
       "      <th>Club</th>\n",
       "      <th>BP</th>\n",
       "      <th>Position</th>\n",
       "      <th>Team &amp; Contract</th>\n",
       "      <th>Height</th>\n",
       "      <th>Weight</th>\n",
       "      <th>...</th>\n",
       "      <th>CDM</th>\n",
       "      <th>RDM</th>\n",
       "      <th>RWB</th>\n",
       "      <th>LB</th>\n",
       "      <th>LCB</th>\n",
       "      <th>CB</th>\n",
       "      <th>RCB</th>\n",
       "      <th>RB</th>\n",
       "      <th>GK</th>\n",
       "      <th>OVA</th>\n",
       "    </tr>\n",
       "  </thead>\n",
       "  <tbody>\n",
       "    <tr>\n",
       "      <th>0</th>\n",
       "      <td>184383</td>\n",
       "      <td>A. Pasche</td>\n",
       "      <td>26</td>\n",
       "      <td>Switzerland</td>\n",
       "      <td>FC Lausanne-Sport</td>\n",
       "      <td>CM</td>\n",
       "      <td>CM CDM</td>\n",
       "      <td>FC Lausanne-Sport 2015 ~ 2020</td>\n",
       "      <td>5'9\"</td>\n",
       "      <td>161lbs</td>\n",
       "      <td>...</td>\n",
       "      <td>59+1</td>\n",
       "      <td>59+1</td>\n",
       "      <td>59+1</td>\n",
       "      <td>58+1</td>\n",
       "      <td>54+1</td>\n",
       "      <td>54+1</td>\n",
       "      <td>54+1</td>\n",
       "      <td>58+1</td>\n",
       "      <td>15+1</td>\n",
       "      <td>64</td>\n",
       "    </tr>\n",
       "    <tr>\n",
       "      <th>1</th>\n",
       "      <td>188044</td>\n",
       "      <td>Alan Carvalho</td>\n",
       "      <td>30</td>\n",
       "      <td>China PR</td>\n",
       "      <td>Beijing Sinobo Guoan FC</td>\n",
       "      <td>ST</td>\n",
       "      <td>ST LW LM</td>\n",
       "      <td>Beijing Sinobo Guoan FC Dec 31, 2020 On Loan</td>\n",
       "      <td>6'0\"</td>\n",
       "      <td>159lbs</td>\n",
       "      <td>...</td>\n",
       "      <td>53+2</td>\n",
       "      <td>53+2</td>\n",
       "      <td>57+2</td>\n",
       "      <td>53+2</td>\n",
       "      <td>48+2</td>\n",
       "      <td>48+2</td>\n",
       "      <td>48+2</td>\n",
       "      <td>53+2</td>\n",
       "      <td>18+2</td>\n",
       "      <td>77</td>\n",
       "    </tr>\n",
       "    <tr>\n",
       "      <th>2</th>\n",
       "      <td>184431</td>\n",
       "      <td>S. Giovinco</td>\n",
       "      <td>33</td>\n",
       "      <td>Italy</td>\n",
       "      <td>Al Hilal</td>\n",
       "      <td>CAM</td>\n",
       "      <td>CAM CF</td>\n",
       "      <td>Al Hilal 2019 ~ 2022</td>\n",
       "      <td>5'4\"</td>\n",
       "      <td>134lbs</td>\n",
       "      <td>...</td>\n",
       "      <td>56+2</td>\n",
       "      <td>56+2</td>\n",
       "      <td>59+2</td>\n",
       "      <td>53+2</td>\n",
       "      <td>41+2</td>\n",
       "      <td>41+2</td>\n",
       "      <td>41+2</td>\n",
       "      <td>53+2</td>\n",
       "      <td>12+2</td>\n",
       "      <td>80</td>\n",
       "    </tr>\n",
       "    <tr>\n",
       "      <th>3</th>\n",
       "      <td>233796</td>\n",
       "      <td>J. Evans</td>\n",
       "      <td>22</td>\n",
       "      <td>Wales</td>\n",
       "      <td>Swansea City</td>\n",
       "      <td>CDM</td>\n",
       "      <td>CDM CM</td>\n",
       "      <td>Swansea City 2016 ~ 2021</td>\n",
       "      <td>5'10\"</td>\n",
       "      <td>152lbs</td>\n",
       "      <td>...</td>\n",
       "      <td>58+2</td>\n",
       "      <td>58+2</td>\n",
       "      <td>56+2</td>\n",
       "      <td>57+2</td>\n",
       "      <td>58+2</td>\n",
       "      <td>58+2</td>\n",
       "      <td>58+2</td>\n",
       "      <td>57+2</td>\n",
       "      <td>14+2</td>\n",
       "      <td>59</td>\n",
       "    </tr>\n",
       "    <tr>\n",
       "      <th>4</th>\n",
       "      <td>234799</td>\n",
       "      <td>Y. Demoncy</td>\n",
       "      <td>23</td>\n",
       "      <td>France</td>\n",
       "      <td>US Orléans Loiret Football</td>\n",
       "      <td>CDM</td>\n",
       "      <td>CDM CM</td>\n",
       "      <td>US Orléans Loiret Football 2018 ~ 2021</td>\n",
       "      <td>5'11\"</td>\n",
       "      <td>150lbs</td>\n",
       "      <td>...</td>\n",
       "      <td>64+2</td>\n",
       "      <td>64+2</td>\n",
       "      <td>64+2</td>\n",
       "      <td>63+2</td>\n",
       "      <td>61+2</td>\n",
       "      <td>61+2</td>\n",
       "      <td>61+2</td>\n",
       "      <td>63+2</td>\n",
       "      <td>15+2</td>\n",
       "      <td>65</td>\n",
       "    </tr>\n",
       "    <tr>\n",
       "      <th>...</th>\n",
       "      <td>...</td>\n",
       "      <td>...</td>\n",
       "      <td>...</td>\n",
       "      <td>...</td>\n",
       "      <td>...</td>\n",
       "      <td>...</td>\n",
       "      <td>...</td>\n",
       "      <td>...</td>\n",
       "      <td>...</td>\n",
       "      <td>...</td>\n",
       "      <td>...</td>\n",
       "      <td>...</td>\n",
       "      <td>...</td>\n",
       "      <td>...</td>\n",
       "      <td>...</td>\n",
       "      <td>...</td>\n",
       "      <td>...</td>\n",
       "      <td>...</td>\n",
       "      <td>...</td>\n",
       "      <td>...</td>\n",
       "      <td>...</td>\n",
       "    </tr>\n",
       "    <tr>\n",
       "      <th>11695</th>\n",
       "      <td>196848</td>\n",
       "      <td>I. Ávila</td>\n",
       "      <td>29</td>\n",
       "      <td>Peru</td>\n",
       "      <td>Melgar FBC</td>\n",
       "      <td>ST</td>\n",
       "      <td>ST</td>\n",
       "      <td>Melgar FBC 2019 ~ 2021</td>\n",
       "      <td>5'7\"</td>\n",
       "      <td>154lbs</td>\n",
       "      <td>...</td>\n",
       "      <td>45+2</td>\n",
       "      <td>45+2</td>\n",
       "      <td>46+2</td>\n",
       "      <td>44+2</td>\n",
       "      <td>43+2</td>\n",
       "      <td>43+2</td>\n",
       "      <td>43+2</td>\n",
       "      <td>44+2</td>\n",
       "      <td>19+2</td>\n",
       "      <td>65</td>\n",
       "    </tr>\n",
       "    <tr>\n",
       "      <th>11696</th>\n",
       "      <td>232504</td>\n",
       "      <td>B. Böðvarsson</td>\n",
       "      <td>25</td>\n",
       "      <td>Iceland</td>\n",
       "      <td>Jagiellonia Białystok</td>\n",
       "      <td>LB</td>\n",
       "      <td>LB</td>\n",
       "      <td>Jagiellonia Białystok 2018 ~ 2021</td>\n",
       "      <td>6'1\"</td>\n",
       "      <td>168lbs</td>\n",
       "      <td>...</td>\n",
       "      <td>60+2</td>\n",
       "      <td>60+2</td>\n",
       "      <td>63+2</td>\n",
       "      <td>63+2</td>\n",
       "      <td>61+2</td>\n",
       "      <td>61+2</td>\n",
       "      <td>61+2</td>\n",
       "      <td>63+2</td>\n",
       "      <td>16+2</td>\n",
       "      <td>65</td>\n",
       "    </tr>\n",
       "    <tr>\n",
       "      <th>11697</th>\n",
       "      <td>214680</td>\n",
       "      <td>G. Gallon</td>\n",
       "      <td>27</td>\n",
       "      <td>France</td>\n",
       "      <td>ESTAC Troyes</td>\n",
       "      <td>GK</td>\n",
       "      <td>GK</td>\n",
       "      <td>ESTAC Troyes 2019 ~ 2022</td>\n",
       "      <td>6'1\"</td>\n",
       "      <td>174lbs</td>\n",
       "      <td>...</td>\n",
       "      <td>26+2</td>\n",
       "      <td>26+2</td>\n",
       "      <td>25+2</td>\n",
       "      <td>24+2</td>\n",
       "      <td>26+2</td>\n",
       "      <td>26+2</td>\n",
       "      <td>26+2</td>\n",
       "      <td>24+2</td>\n",
       "      <td>69+2</td>\n",
       "      <td>70</td>\n",
       "    </tr>\n",
       "    <tr>\n",
       "      <th>11698</th>\n",
       "      <td>221489</td>\n",
       "      <td>J. Flores</td>\n",
       "      <td>22</td>\n",
       "      <td>Chile</td>\n",
       "      <td>CD Antofagasta</td>\n",
       "      <td>RM</td>\n",
       "      <td>LM CAM RM</td>\n",
       "      <td>CD Antofagasta 2019 ~ 2024</td>\n",
       "      <td>5'6\"</td>\n",
       "      <td>143lbs</td>\n",
       "      <td>...</td>\n",
       "      <td>44+2</td>\n",
       "      <td>44+2</td>\n",
       "      <td>49+2</td>\n",
       "      <td>45+2</td>\n",
       "      <td>35+2</td>\n",
       "      <td>35+2</td>\n",
       "      <td>35+2</td>\n",
       "      <td>45+2</td>\n",
       "      <td>17+2</td>\n",
       "      <td>67</td>\n",
       "    </tr>\n",
       "    <tr>\n",
       "      <th>11700</th>\n",
       "      <td>236507</td>\n",
       "      <td>T. Conechny</td>\n",
       "      <td>22</td>\n",
       "      <td>Argentina</td>\n",
       "      <td>Portland Timbers</td>\n",
       "      <td>CAM</td>\n",
       "      <td>ST CAM LM</td>\n",
       "      <td>Portland Timbers 2019 ~ 2020</td>\n",
       "      <td>5'7\"</td>\n",
       "      <td>143lbs</td>\n",
       "      <td>...</td>\n",
       "      <td>43+2</td>\n",
       "      <td>43+2</td>\n",
       "      <td>46+2</td>\n",
       "      <td>44+2</td>\n",
       "      <td>36+2</td>\n",
       "      <td>36+2</td>\n",
       "      <td>36+2</td>\n",
       "      <td>44+2</td>\n",
       "      <td>15+2</td>\n",
       "      <td>64</td>\n",
       "    </tr>\n",
       "  </tbody>\n",
       "</table>\n",
       "<p>11660 rows × 101 columns</p>\n",
       "</div>"
      ],
      "text/plain": [
       "           ID           Name  Age  Nationality                        Club  \\\n",
       "0      184383      A. Pasche   26  Switzerland           FC Lausanne-Sport   \n",
       "1      188044  Alan Carvalho   30     China PR     Beijing Sinobo Guoan FC   \n",
       "2      184431    S. Giovinco   33        Italy                    Al Hilal   \n",
       "3      233796       J. Evans   22        Wales                Swansea City   \n",
       "4      234799     Y. Demoncy   23       France  US Orléans Loiret Football   \n",
       "...       ...            ...  ...          ...                         ...   \n",
       "11695  196848       I. Ávila   29         Peru                  Melgar FBC   \n",
       "11696  232504  B. Böðvarsson   25      Iceland       Jagiellonia Białystok   \n",
       "11697  214680      G. Gallon   27       France                ESTAC Troyes   \n",
       "11698  221489      J. Flores   22        Chile              CD Antofagasta   \n",
       "11700  236507    T. Conechny   22    Argentina            Portland Timbers   \n",
       "\n",
       "        BP   Position                               Team & Contract Height  \\\n",
       "0       CM     CM CDM                 FC Lausanne-Sport 2015 ~ 2020   5'9\"   \n",
       "1       ST   ST LW LM  Beijing Sinobo Guoan FC Dec 31, 2020 On Loan   6'0\"   \n",
       "2      CAM     CAM CF                          Al Hilal 2019 ~ 2022   5'4\"   \n",
       "3      CDM     CDM CM                      Swansea City 2016 ~ 2021  5'10\"   \n",
       "4      CDM     CDM CM        US Orléans Loiret Football 2018 ~ 2021  5'11\"   \n",
       "...    ...        ...                                           ...    ...   \n",
       "11695   ST         ST                        Melgar FBC 2019 ~ 2021   5'7\"   \n",
       "11696   LB         LB             Jagiellonia Białystok 2018 ~ 2021   6'1\"   \n",
       "11697   GK         GK                      ESTAC Troyes 2019 ~ 2022   6'1\"   \n",
       "11698   RM  LM CAM RM                    CD Antofagasta 2019 ~ 2024   5'6\"   \n",
       "11700  CAM  ST CAM LM                  Portland Timbers 2019 ~ 2020   5'7\"   \n",
       "\n",
       "       Weight  ...   CDM   RDM   RWB    LB   LCB    CB   RCB    RB    GK  OVA  \n",
       "0      161lbs  ...  59+1  59+1  59+1  58+1  54+1  54+1  54+1  58+1  15+1   64  \n",
       "1      159lbs  ...  53+2  53+2  57+2  53+2  48+2  48+2  48+2  53+2  18+2   77  \n",
       "2      134lbs  ...  56+2  56+2  59+2  53+2  41+2  41+2  41+2  53+2  12+2   80  \n",
       "3      152lbs  ...  58+2  58+2  56+2  57+2  58+2  58+2  58+2  57+2  14+2   59  \n",
       "4      150lbs  ...  64+2  64+2  64+2  63+2  61+2  61+2  61+2  63+2  15+2   65  \n",
       "...       ...  ...   ...   ...   ...   ...   ...   ...   ...   ...   ...  ...  \n",
       "11695  154lbs  ...  45+2  45+2  46+2  44+2  43+2  43+2  43+2  44+2  19+2   65  \n",
       "11696  168lbs  ...  60+2  60+2  63+2  63+2  61+2  61+2  61+2  63+2  16+2   65  \n",
       "11697  174lbs  ...  26+2  26+2  25+2  24+2  26+2  26+2  26+2  24+2  69+2   70  \n",
       "11698  143lbs  ...  44+2  44+2  49+2  45+2  35+2  35+2  35+2  45+2  17+2   67  \n",
       "11700  143lbs  ...  43+2  43+2  46+2  44+2  36+2  36+2  36+2  44+2  15+2   64  \n",
       "\n",
       "[11660 rows x 101 columns]"
      ]
     },
     "metadata": {},
     "output_type": "display_data"
    }
   ],
   "source": [
    "display(file[(file[\"Volleys\"].isna() == False) & (file[\"Curve\"].isna() == False) & (file[\"Agility\"].isna() == False)])"
   ]
  },
  {
   "cell_type": "markdown",
   "metadata": {},
   "source": [
    "## Here we created a new DF where we kicked out some rows with many NaN"
   ]
  },
  {
   "cell_type": "code",
   "execution_count": 64,
   "metadata": {},
   "outputs": [],
   "source": [
    "df_new = file[(file[\"Volleys\"].isna() == False) & (file[\"Curve\"].isna() == False) & (file[\"Agility\"].isna() == False)]"
   ]
  },
  {
   "cell_type": "code",
   "execution_count": 165,
   "metadata": {},
   "outputs": [],
   "source": [
    "#display(df_new)"
   ]
  },
  {
   "cell_type": "code",
   "execution_count": 69,
   "metadata": {},
   "outputs": [
    {
     "data": {
      "text/plain": [
       "ID              0\n",
       "Name            0\n",
       "Age             0\n",
       "Nationality     0\n",
       "Club           14\n",
       "               ..\n",
       "CB              0\n",
       "RCB             0\n",
       "RB              0\n",
       "GK              0\n",
       "OVA             0\n",
       "Length: 101, dtype: int64"
      ]
     },
     "metadata": {},
     "output_type": "display_data"
    }
   ],
   "source": [
    "display(df_new.isna().sum())"
   ]
  },
  {
   "cell_type": "code",
   "execution_count": 71,
   "metadata": {},
   "outputs": [],
   "source": [
    "# Numerical DataFrame\n",
    "df_new_numerical = df_new.select_dtypes(np.number)"
   ]
  },
  {
   "cell_type": "code",
   "execution_count": 88,
   "metadata": {},
   "outputs": [
    {
     "data": {
      "text/plain": [
       "ID                  0\n",
       "Age                 0\n",
       "Growth              0\n",
       "Attacking           0\n",
       "Crossing            0\n",
       "Finishing           0\n",
       "Heading Accuracy    0\n",
       "Short Passing       0\n",
       "Volleys             0\n",
       "Skill               0\n",
       "Dribbling           0\n",
       "Curve               0\n",
       "FK Accuracy         0\n",
       "Long Passing        0\n",
       "Ball Control        0\n",
       "Movement            0\n",
       "Acceleration        0\n",
       "Sprint Speed        0\n",
       "Agility             0\n",
       "Reactions           0\n",
       "Balance             0\n",
       "Power               0\n",
       "Shot Power          0\n",
       "Jumping             0\n",
       "Stamina             0\n",
       "Strength            0\n",
       "Long Shots          0\n",
       "Mentality           0\n",
       "Aggression          0\n",
       "Interceptions       0\n",
       "Positioning         0\n",
       "Vision              0\n",
       "Penalties           0\n",
       "Composure           0\n",
       "Defending           0\n",
       "Marking             0\n",
       "Standing Tackle     0\n",
       "Sliding Tackle      0\n",
       "Goalkeeping         0\n",
       "GK Diving           0\n",
       "GK Handling         0\n",
       "GK Kicking          0\n",
       "GK Positioning      0\n",
       "GK Reflexes         0\n",
       "Total Stats         0\n",
       "Base Stats          0\n",
       "PAC                 0\n",
       "SHO                 0\n",
       "PAS                 0\n",
       "DRI                 0\n",
       "DEF                 0\n",
       "PHY                 0\n",
       "OVA                 0\n",
       "dtype: int64"
      ]
     },
     "execution_count": 88,
     "metadata": {},
     "output_type": "execute_result"
    }
   ],
   "source": [
    "df_new_numerical.isna().sum()"
   ]
  },
  {
   "cell_type": "code",
   "execution_count": 85,
   "metadata": {},
   "outputs": [],
   "source": [
    "mean_composure = df_new_numerical[\"Composure\"].mean()"
   ]
  },
  {
   "cell_type": "code",
   "execution_count": 79,
   "metadata": {},
   "outputs": [
    {
     "data": {
      "text/plain": [
       "count    11422.000000\n",
       "mean        59.947732\n",
       "std         11.769872\n",
       "min         12.000000\n",
       "25%         53.000000\n",
       "50%         61.000000\n",
       "75%         68.000000\n",
       "max         96.000000\n",
       "Name: Composure, dtype: float64"
      ]
     },
     "execution_count": 79,
     "metadata": {},
     "output_type": "execute_result"
    }
   ],
   "source": [
    "df_new_numerical[\"Composure\"].describe()"
   ]
  },
  {
   "cell_type": "code",
   "execution_count": 86,
   "metadata": {},
   "outputs": [
    {
     "name": "stderr",
     "output_type": "stream",
     "text": [
      "<ipython-input-86-2b8380a39fac>:1: SettingWithCopyWarning: \n",
      "A value is trying to be set on a copy of a slice from a DataFrame.\n",
      "Try using .loc[row_indexer,col_indexer] = value instead\n",
      "\n",
      "See the caveats in the documentation: https://pandas.pydata.org/pandas-docs/stable/user_guide/indexing.html#returning-a-view-versus-a-copy\n",
      "  df_new_numerical[\"Composure\"] = df_new_numerical[\"Composure\"].fillna(mean)\n"
     ]
    }
   ],
   "source": [
    "df_new_numerical[\"Composure\"] = df_new_numerical[\"Composure\"].fillna(mean_composure)"
   ]
  },
  {
   "cell_type": "code",
   "execution_count": 150,
   "metadata": {},
   "outputs": [],
   "source": [
    "# Categorical Dataframe\n",
    "df_new_categorical = df_new.select_dtypes(object)"
   ]
  },
  {
   "cell_type": "code",
   "execution_count": 172,
   "metadata": {},
   "outputs": [
    {
     "data": {
      "text/plain": [
       "Name                   0\n",
       "Nationality            0\n",
       "Club                  14\n",
       "BP                     0\n",
       "Position               0\n",
       "Team & Contract        0\n",
       "Height                 0\n",
       "Weight                 0\n",
       "foot                   0\n",
       "Joined                 0\n",
       "Loan Date End      11031\n",
       "Value                  0\n",
       "Wage                   0\n",
       "Release Clause         0\n",
       "Contract               0\n",
       "W/F                    0\n",
       "SM                     0\n",
       "A/W                   18\n",
       "D/W                   18\n",
       "IR                     0\n",
       "Hits                   0\n",
       "LS                     0\n",
       "ST                     0\n",
       "RS                     0\n",
       "LW                     0\n",
       "LF                     0\n",
       "CF                     0\n",
       "RF                     0\n",
       "RW                     0\n",
       "LAM                    0\n",
       "CAM                    0\n",
       "RAM                    0\n",
       "LM                     0\n",
       "LCM                    0\n",
       "CM                     0\n",
       "RCM                    0\n",
       "RM                     0\n",
       "LWB                    0\n",
       "LDM                    0\n",
       "CDM                    0\n",
       "RDM                    0\n",
       "RWB                    0\n",
       "LB                     0\n",
       "LCB                    0\n",
       "CB                     0\n",
       "RCB                    0\n",
       "RB                     0\n",
       "GK                     0\n",
       "dtype: int64"
      ]
     },
     "execution_count": 172,
     "metadata": {},
     "output_type": "execute_result"
    }
   ],
   "source": [
    "df_new_categorical.isna().sum()"
   ]
  },
  {
   "cell_type": "code",
   "execution_count": 160,
   "metadata": {},
   "outputs": [],
   "source": [
    "#df_new_categorical[\"Position\"].unique()"
   ]
  },
  {
   "cell_type": "code",
   "execution_count": 153,
   "metadata": {},
   "outputs": [
    {
     "data": {
      "text/plain": [
       "OGC Nice                 35\n",
       "Crystal Palace           35\n",
       "Everton                  35\n",
       "Sporting CP              33\n",
       "Chelsea                  32\n",
       "                         ..\n",
       "Longford Town             1\n",
       "LKS Lodz                  1\n",
       "Spain                     1\n",
       "FC Ural Yekaterinburg     1\n",
       "Atlante                   1\n",
       "Name: Club, Length: 880, dtype: int64"
      ]
     },
     "execution_count": 153,
     "metadata": {},
     "output_type": "execute_result"
    }
   ],
   "source": [
    "df_new_categorical[\"Club\"].value_counts(dropna=False)"
   ]
  },
  {
   "cell_type": "code",
   "execution_count": 154,
   "metadata": {},
   "outputs": [
    {
     "data": {
      "text/plain": [
       "11660"
      ]
     },
     "execution_count": 154,
     "metadata": {},
     "output_type": "execute_result"
    }
   ],
   "source": [
    "len(df_new_categorical[\"Club\"])"
   ]
  },
  {
   "cell_type": "code",
   "execution_count": 171,
   "metadata": {},
   "outputs": [],
   "source": [
    "#df_new_categorical[\"Club\"].unique()"
   ]
  },
  {
   "cell_type": "code",
   "execution_count": 156,
   "metadata": {},
   "outputs": [
    {
     "data": {
      "image/png": "[encoded data removed]",
      "text/plain": [
       "<Figure size 360x360 with 1 Axes>"
      ]
     },
     "metadata": {
      "needs_background": "light"
     },
     "output_type": "display_data"
    }
   ],
   "source": [
    "sns.displot(df_new_numerical[\"Composure\"])\n",
    "plt.show()"
   ]
  },
  {
   "cell_type": "code",
   "execution_count": 157,
   "metadata": {},
   "outputs": [
    {
     "data": {
      "text/html": [
       "<div>\n",
       "<style scoped>\n",
       "    .dataframe tbody tr th:only-of-type {\n",
       "        vertical-align: middle;\n",
       "    }\n",
       "\n",
       "    .dataframe tbody tr th {\n",
       "        vertical-align: top;\n",
       "    }\n",
       "\n",
       "    .dataframe thead th {\n",
       "        text-align: right;\n",
       "    }\n",
       "</style>\n",
       "<table border=\"1\" class=\"dataframe\">\n",
       "  <thead>\n",
       "    <tr style=\"text-align: right;\">\n",
       "      <th></th>\n",
       "      <th>Position</th>\n",
       "    </tr>\n",
       "  </thead>\n",
       "  <tbody>\n",
       "    <tr>\n",
       "      <th>CB</th>\n",
       "      <td>1347</td>\n",
       "    </tr>\n",
       "    <tr>\n",
       "      <th>ST</th>\n",
       "      <td>1260</td>\n",
       "    </tr>\n",
       "    <tr>\n",
       "      <th>GK</th>\n",
       "      <td>1038</td>\n",
       "    </tr>\n",
       "    <tr>\n",
       "      <th>CDM CM</th>\n",
       "      <td>515</td>\n",
       "    </tr>\n",
       "    <tr>\n",
       "      <th>CM</th>\n",
       "      <td>446</td>\n",
       "    </tr>\n",
       "    <tr>\n",
       "      <th>...</th>\n",
       "      <td>...</td>\n",
       "    </tr>\n",
       "    <tr>\n",
       "      <th>RW LWB RM</th>\n",
       "      <td>1</td>\n",
       "    </tr>\n",
       "    <tr>\n",
       "      <th>LM RWB RM</th>\n",
       "      <td>1</td>\n",
       "    </tr>\n",
       "    <tr>\n",
       "      <th>ST CF RM</th>\n",
       "      <td>1</td>\n",
       "    </tr>\n",
       "    <tr>\n",
       "      <th>LW CF ST</th>\n",
       "      <td>1</td>\n",
       "    </tr>\n",
       "    <tr>\n",
       "      <th>CDM CB LB</th>\n",
       "      <td>1</td>\n",
       "    </tr>\n",
       "  </tbody>\n",
       "</table>\n",
       "<p>543 rows × 1 columns</p>\n",
       "</div>"
      ],
      "text/plain": [
       "           Position\n",
       "CB             1347\n",
       "ST             1260\n",
       "GK             1038\n",
       "CDM CM          515\n",
       "CM              446\n",
       "...             ...\n",
       "RW LWB RM         1\n",
       "LM RWB RM         1\n",
       "ST CF RM          1\n",
       "LW CF ST          1\n",
       "CDM CB LB         1\n",
       "\n",
       "[543 rows x 1 columns]"
      ]
     },
     "metadata": {},
     "output_type": "display_data"
    }
   ],
   "source": [
    "Position=pd.DataFrame(df_new_categorical['Position'].value_counts())\n",
    "display(Position)"
   ]
  },
  {
   "cell_type": "code",
   "execution_count": 147,
   "metadata": {},
   "outputs": [],
   "source": [
    "pos = np.array([\"CB\", \"ST\", \"GK\"])"
   ]
  },
  {
   "cell_type": "code",
   "execution_count": 159,
   "metadata": {},
   "outputs": [
    {
     "name": "stderr",
     "output_type": "stream",
     "text": [
      "C:\\ProgramData\\Anaconda3\\lib\\site-packages\\pandas\\core\\indexing.py:671: SettingWithCopyWarning: \n",
      "A value is trying to be set on a copy of a slice from a DataFrame\n",
      "\n",
      "See the caveats in the documentation: https://pandas.pydata.org/pandas-docs/stable/user_guide/indexing.html#returning-a-view-versus-a-copy\n",
      "  self._setitem_with_indexer(indexer, value)\n",
      "<ipython-input-159-d18632b0f701>:6: SettingWithCopyWarning: \n",
      "A value is trying to be set on a copy of a slice from a DataFrame\n",
      "\n",
      "See the caveats in the documentation: https://pandas.pydata.org/pandas-docs/stable/user_guide/indexing.html#returning-a-view-versus-a-copy\n",
      "  df_new_categorical.loc[list_position_na,[\"Position\"]] = np.random.choice(pos ,size=len(list_position_na)).reshape((-1,1))\n"
     ]
    },
    {
     "data": {
      "text/html": [
       "<div>\n",
       "<style scoped>\n",
       "    .dataframe tbody tr th:only-of-type {\n",
       "        vertical-align: middle;\n",
       "    }\n",
       "\n",
       "    .dataframe tbody tr th {\n",
       "        vertical-align: top;\n",
       "    }\n",
       "\n",
       "    .dataframe thead th {\n",
       "        text-align: right;\n",
       "    }\n",
       "</style>\n",
       "<table border=\"1\" class=\"dataframe\">\n",
       "  <thead>\n",
       "    <tr style=\"text-align: right;\">\n",
       "      <th></th>\n",
       "      <th>Position</th>\n",
       "    </tr>\n",
       "  </thead>\n",
       "  <tbody>\n",
       "    <tr>\n",
       "      <th>17</th>\n",
       "      <td>GK</td>\n",
       "    </tr>\n",
       "    <tr>\n",
       "      <th>59</th>\n",
       "      <td>CB</td>\n",
       "    </tr>\n",
       "    <tr>\n",
       "      <th>132</th>\n",
       "      <td>GK</td>\n",
       "    </tr>\n",
       "    <tr>\n",
       "      <th>157</th>\n",
       "      <td>CB</td>\n",
       "    </tr>\n",
       "    <tr>\n",
       "      <th>214</th>\n",
       "      <td>CB</td>\n",
       "    </tr>\n",
       "  </tbody>\n",
       "</table>\n",
       "</div>"
      ],
      "text/plain": [
       "    Position\n",
       "17        GK\n",
       "59        CB\n",
       "132       GK\n",
       "157       CB\n",
       "214       CB"
      ]
     },
     "execution_count": 159,
     "metadata": {},
     "output_type": "execute_result"
    }
   ],
   "source": [
    "#df_new_categorical[\"Position\"].unique()\n",
    "#np.random.choice(df_new_categorical[\"Position\"].unique(),size=2)\n",
    "list_position_na = list(df_new_categorical[df_new_categorical[\"Position\"].isna() == True].index)\n",
    "#list_position_na\n",
    "#df_new_categorical.loc[list_position_na,[\"Position\"]]\n",
    "df_new_categorical.loc[list_position_na,[\"Position\"]] = np.random.choice(pos ,size=len(list_position_na)).reshape((-1,1))\n",
    "\n",
    "#repl = np.random.choice(pos ,size=len(list_position_na))\n",
    "#display(repl)\n",
    "#display(lenay(list_position_na)\n",
    "#df_new_categorical.loc[list_position_na,[\"Position\"]] = repl\n",
    "df_new_categorical.loc[list_position_na,['Position']].head()\n",
    "#np.random.choice(df_new_categorical[\"Position\"],size=len(list_position_na)).reshape((-1,1)).shape"
   ]
  },
  {
   "cell_type": "code",
   "execution_count": 170,
   "metadata": {},
   "outputs": [
    {
     "data": {
      "text/html": [
       "<div>\n",
       "<style scoped>\n",
       "    .dataframe tbody tr th:only-of-type {\n",
       "        vertical-align: middle;\n",
       "    }\n",
       "\n",
       "    .dataframe tbody tr th {\n",
       "        vertical-align: top;\n",
       "    }\n",
       "\n",
       "    .dataframe thead th {\n",
       "        text-align: right;\n",
       "    }\n",
       "</style>\n",
       "<table border=\"1\" class=\"dataframe\">\n",
       "  <thead>\n",
       "    <tr style=\"text-align: right;\">\n",
       "      <th></th>\n",
       "      <th>Club</th>\n",
       "    </tr>\n",
       "  </thead>\n",
       "  <tbody>\n",
       "    <tr>\n",
       "      <th>OGC Nice</th>\n",
       "      <td>35</td>\n",
       "    </tr>\n",
       "    <tr>\n",
       "      <th>Crystal Palace</th>\n",
       "      <td>35</td>\n",
       "    </tr>\n",
       "    <tr>\n",
       "      <th>Everton</th>\n",
       "      <td>35</td>\n",
       "    </tr>\n",
       "    <tr>\n",
       "      <th>Sporting CP</th>\n",
       "      <td>33</td>\n",
       "    </tr>\n",
       "    <tr>\n",
       "      <th>Fenerbahçe SK</th>\n",
       "      <td>32</td>\n",
       "    </tr>\n",
       "    <tr>\n",
       "      <th>...</th>\n",
       "      <td>...</td>\n",
       "    </tr>\n",
       "    <tr>\n",
       "      <th>Al Qadisiyah</th>\n",
       "      <td>1</td>\n",
       "    </tr>\n",
       "    <tr>\n",
       "      <th>Tours FC</th>\n",
       "      <td>1</td>\n",
       "    </tr>\n",
       "    <tr>\n",
       "      <th>Alianza Petrolera</th>\n",
       "      <td>1</td>\n",
       "    </tr>\n",
       "    <tr>\n",
       "      <th>Albirex Niigata</th>\n",
       "      <td>1</td>\n",
       "    </tr>\n",
       "    <tr>\n",
       "      <th>Atlético Huila</th>\n",
       "      <td>1</td>\n",
       "    </tr>\n",
       "  </tbody>\n",
       "</table>\n",
       "<p>879 rows × 1 columns</p>\n",
       "</div>"
      ],
      "text/plain": [
       "                   Club\n",
       "OGC Nice             35\n",
       "Crystal Palace       35\n",
       "Everton              35\n",
       "Sporting CP          33\n",
       "Fenerbahçe SK        32\n",
       "...                 ...\n",
       "Al Qadisiyah          1\n",
       "Tours FC              1\n",
       "Alianza Petrolera     1\n",
       "Albirex Niigata       1\n",
       "Atlético Huila        1\n",
       "\n",
       "[879 rows x 1 columns]"
      ]
     },
     "metadata": {},
     "output_type": "display_data"
    },
    {
     "name": "stdout",
     "output_type": "stream",
     "text": [
      "<class 'pandas.core.frame.DataFrame'>\n",
      "Index: 879 entries, OGC Nice to Atlético Huila\n",
      "Data columns (total 1 columns):\n",
      " #   Column  Non-Null Count  Dtype\n",
      "---  ------  --------------  -----\n",
      " 0   Club    879 non-null    int64\n",
      "dtypes: int64(1)\n",
      "memory usage: 13.7+ KB\n"
     ]
    }
   ],
   "source": [
    "Club=pd.DataFrame(df_new_categorical['Club'].value_counts())\n",
    "display(Club)\n",
    "Club.info()"
   ]
  },
  {
   "cell_type": "code",
   "execution_count": 173,
   "metadata": {},
   "outputs": [
    {
     "data": {
      "text/html": [
       "<div>\n",
       "<style scoped>\n",
       "    .dataframe tbody tr th:only-of-type {\n",
       "        vertical-align: middle;\n",
       "    }\n",
       "\n",
       "    .dataframe tbody tr th {\n",
       "        vertical-align: top;\n",
       "    }\n",
       "\n",
       "    .dataframe thead th {\n",
       "        text-align: right;\n",
       "    }\n",
       "</style>\n",
       "<table border=\"1\" class=\"dataframe\">\n",
       "  <thead>\n",
       "    <tr style=\"text-align: right;\">\n",
       "      <th></th>\n",
       "      <th>A/W</th>\n",
       "    </tr>\n",
       "  </thead>\n",
       "  <tbody>\n",
       "    <tr>\n",
       "      <th>Medium</th>\n",
       "      <td>7494</td>\n",
       "    </tr>\n",
       "    <tr>\n",
       "      <th>High</th>\n",
       "      <td>3548</td>\n",
       "    </tr>\n",
       "    <tr>\n",
       "      <th>Low</th>\n",
       "      <td>600</td>\n",
       "    </tr>\n",
       "  </tbody>\n",
       "</table>\n",
       "</div>"
      ],
      "text/plain": [
       "         A/W\n",
       "Medium  7494\n",
       "High    3548\n",
       "Low      600"
      ]
     },
     "metadata": {},
     "output_type": "display_data"
    },
    {
     "name": "stdout",
     "output_type": "stream",
     "text": [
      "<class 'pandas.core.frame.DataFrame'>\n",
      "Index: 3 entries, Medium to Low\n",
      "Data columns (total 1 columns):\n",
      " #   Column  Non-Null Count  Dtype\n",
      "---  ------  --------------  -----\n",
      " 0   A/W     3 non-null      int64\n",
      "dtypes: int64(1)\n",
      "memory usage: 48.0+ bytes\n"
     ]
    }
   ],
   "source": [
    "Club=pd.DataFrame(df_new_categorical['A/W'].value_counts())\n",
    "display(Club)\n",
    "Club.info()"
   ]
  },
  {
   "cell_type": "code",
   "execution_count": 176,
   "metadata": {},
   "outputs": [
    {
     "data": {
      "text/html": [
       "<div>\n",
       "<style scoped>\n",
       "    .dataframe tbody tr th:only-of-type {\n",
       "        vertical-align: middle;\n",
       "    }\n",
       "\n",
       "    .dataframe tbody tr th {\n",
       "        vertical-align: top;\n",
       "    }\n",
       "\n",
       "    .dataframe thead th {\n",
       "        text-align: right;\n",
       "    }\n",
       "</style>\n",
       "<table border=\"1\" class=\"dataframe\">\n",
       "  <thead>\n",
       "    <tr style=\"text-align: right;\">\n",
       "      <th></th>\n",
       "      <th>D/W</th>\n",
       "    </tr>\n",
       "  </thead>\n",
       "  <tbody>\n",
       "    <tr>\n",
       "      <th>Medium</th>\n",
       "      <td>8350</td>\n",
       "    </tr>\n",
       "    <tr>\n",
       "      <th>High</th>\n",
       "      <td>2027</td>\n",
       "    </tr>\n",
       "    <tr>\n",
       "      <th>Low</th>\n",
       "      <td>1265</td>\n",
       "    </tr>\n",
       "  </tbody>\n",
       "</table>\n",
       "</div>"
      ],
      "text/plain": [
       "         D/W\n",
       "Medium  8350\n",
       "High    2027\n",
       "Low     1265"
      ]
     },
     "metadata": {},
     "output_type": "display_data"
    },
    {
     "name": "stdout",
     "output_type": "stream",
     "text": [
      "<class 'pandas.core.frame.DataFrame'>\n",
      "Index: 3 entries, Medium to Low\n",
      "Data columns (total 1 columns):\n",
      " #   Column  Non-Null Count  Dtype\n",
      "---  ------  --------------  -----\n",
      " 0   D/W     3 non-null      int64\n",
      "dtypes: int64(1)\n",
      "memory usage: 48.0+ bytes\n"
     ]
    }
   ],
   "source": [
    "Club=pd.DataFrame(df_new_categorical['D/W'].value_counts())\n",
    "display(Club)\n",
    "Club.info()"
   ]
  },
  {
   "cell_type": "code",
   "execution_count": 193,
   "metadata": {},
   "outputs": [
    {
     "data": {
      "text/plain": [
       "Name               0\n",
       "Nationality        0\n",
       "Club               0\n",
       "BP                 0\n",
       "Position           0\n",
       "Team & Contract    0\n",
       "Height             0\n",
       "Weight             0\n",
       "foot               0\n",
       "Joined             0\n",
       "Value              0\n",
       "Wage               0\n",
       "Release Clause     0\n",
       "Contract           0\n",
       "W/F                0\n",
       "SM                 0\n",
       "A/W                0\n",
       "D/W                0\n",
       "IR                 0\n",
       "Hits               0\n",
       "LS                 0\n",
       "ST                 0\n",
       "RS                 0\n",
       "LW                 0\n",
       "LF                 0\n",
       "CF                 0\n",
       "RF                 0\n",
       "RW                 0\n",
       "LAM                0\n",
       "CAM                0\n",
       "RAM                0\n",
       "LM                 0\n",
       "LCM                0\n",
       "CM                 0\n",
       "RCM                0\n",
       "RM                 0\n",
       "LWB                0\n",
       "LDM                0\n",
       "CDM                0\n",
       "RDM                0\n",
       "RWB                0\n",
       "LB                 0\n",
       "LCB                0\n",
       "CB                 0\n",
       "RCB                0\n",
       "RB                 0\n",
       "GK                 0\n",
       "dtype: int64"
      ]
     },
     "execution_count": 193,
     "metadata": {},
     "output_type": "execute_result"
    }
   ],
   "source": [
    "df_new_categorical.isna().sum()"
   ]
  },
  {
   "cell_type": "code",
   "execution_count": 179,
   "metadata": {},
   "outputs": [
    {
     "name": "stderr",
     "output_type": "stream",
     "text": [
      "<ipython-input-179-f585d3f8b976>:1: SettingWithCopyWarning: \n",
      "A value is trying to be set on a copy of a slice from a DataFrame.\n",
      "Try using .loc[row_indexer,col_indexer] = value instead\n",
      "\n",
      "See the caveats in the documentation: https://pandas.pydata.org/pandas-docs/stable/user_guide/indexing.html#returning-a-view-versus-a-copy\n",
      "  df_new_categorical[\"D/W\"] = df_new_categorical[\"D/W\"].fillna(\"Medium\")\n"
     ]
    }
   ],
   "source": [
    "df_new_categorical[\"D/W\"] = df_new_categorical[\"D/W\"].fillna(\"Medium\")"
   ]
  },
  {
   "cell_type": "code",
   "execution_count": 182,
   "metadata": {},
   "outputs": [
    {
     "name": "stderr",
     "output_type": "stream",
     "text": [
      "<ipython-input-182-660eae0e4cc0>:1: SettingWithCopyWarning: \n",
      "A value is trying to be set on a copy of a slice from a DataFrame.\n",
      "Try using .loc[row_indexer,col_indexer] = value instead\n",
      "\n",
      "See the caveats in the documentation: https://pandas.pydata.org/pandas-docs/stable/user_guide/indexing.html#returning-a-view-versus-a-copy\n",
      "  df_new_categorical[\"A/W\"] = df_new_categorical[\"A/W\"].fillna(\"Medium\")\n"
     ]
    }
   ],
   "source": [
    "df_new_categorical[\"A/W\"] = df_new_categorical[\"A/W\"].fillna(\"Medium\")"
   ]
  },
  {
   "cell_type": "code",
   "execution_count": 189,
   "metadata": {},
   "outputs": [
    {
     "name": "stderr",
     "output_type": "stream",
     "text": [
      "C:\\ProgramData\\Anaconda3\\lib\\site-packages\\pandas\\core\\indexing.py:671: SettingWithCopyWarning: \n",
      "A value is trying to be set on a copy of a slice from a DataFrame\n",
      "\n",
      "See the caveats in the documentation: https://pandas.pydata.org/pandas-docs/stable/user_guide/indexing.html#returning-a-view-versus-a-copy\n",
      "  self._setitem_with_indexer(indexer, value)\n",
      "<ipython-input-189-df905454af30>:6: SettingWithCopyWarning: \n",
      "A value is trying to be set on a copy of a slice from a DataFrame\n",
      "\n",
      "See the caveats in the documentation: https://pandas.pydata.org/pandas-docs/stable/user_guide/indexing.html#returning-a-view-versus-a-copy\n",
      "  df_new_categorical.loc[list_club_na,[\"Club\"]] = np.random.choice(df_new_categorical[\"Club\"] ,size=len(list_club_na)).reshape((-1,1))\n"
     ]
    }
   ],
   "source": [
    "#df_new_categorical[\"Position\"].unique()\n",
    "#np.random.choice(df_new_categorical[\"Position\"].unique(),size=2)\n",
    "list_club_na = list(df_new_categorical[df_new_categorical[\"Club\"].isna() == True].index)\n",
    "#list_position_na\n",
    "#df_new_categorical.loc[list_position_na,[\"Position\"]]\n",
    "df_new_categorical.loc[list_club_na,[\"Club\"]] = np.random.choice(df_new_categorical[\"Club\"] ,size=len(list_club_na)).reshape((-1,1))\n",
    "\n",
    "#repl = np.random.choice(pos ,size=len(list_position_na))\n",
    "#display(repl)\n",
    "#display(lenay(list_position_na)\n",
    "#df_new_categorical.loc[list_position_na,[\"Position\"]] = repl\n",
    "#df_new_categorical.loc[list_position_na,['Position']].head()\n",
    "#np.random.choice(df_new_categorical[\"Position\"],size=len(list_position_na)).reshape((-1,1)).shape"
   ]
  },
  {
   "cell_type": "code",
   "execution_count": 191,
   "metadata": {},
   "outputs": [
    {
     "data": {
      "text/html": [
       "<div>\n",
       "<style scoped>\n",
       "    .dataframe tbody tr th:only-of-type {\n",
       "        vertical-align: middle;\n",
       "    }\n",
       "\n",
       "    .dataframe tbody tr th {\n",
       "        vertical-align: top;\n",
       "    }\n",
       "\n",
       "    .dataframe thead th {\n",
       "        text-align: right;\n",
       "    }\n",
       "</style>\n",
       "<table border=\"1\" class=\"dataframe\">\n",
       "  <thead>\n",
       "    <tr style=\"text-align: right;\">\n",
       "      <th></th>\n",
       "      <th>Loan Date End</th>\n",
       "    </tr>\n",
       "  </thead>\n",
       "  <tbody>\n",
       "    <tr>\n",
       "      <th>Jun 30, 2021</th>\n",
       "      <td>370</td>\n",
       "    </tr>\n",
       "    <tr>\n",
       "      <th>Jun 30, 2020</th>\n",
       "      <td>72</td>\n",
       "    </tr>\n",
       "    <tr>\n",
       "      <th>Dec 31, 2020</th>\n",
       "      <td>55</td>\n",
       "    </tr>\n",
       "    <tr>\n",
       "      <th>Jun 30, 2019</th>\n",
       "      <td>19</td>\n",
       "    </tr>\n",
       "    <tr>\n",
       "      <th>Jun 30, 2018</th>\n",
       "      <td>17</td>\n",
       "    </tr>\n",
       "    <tr>\n",
       "      <th>May 31, 2021</th>\n",
       "      <td>15</td>\n",
       "    </tr>\n",
       "    <tr>\n",
       "      <th>Dec 31, 2021</th>\n",
       "      <td>12</td>\n",
       "    </tr>\n",
       "    <tr>\n",
       "      <th>Jan 31, 2021</th>\n",
       "      <td>11</td>\n",
       "    </tr>\n",
       "    <tr>\n",
       "      <th>Jun 30, 2022</th>\n",
       "      <td>8</td>\n",
       "    </tr>\n",
       "    <tr>\n",
       "      <th>Jan 1, 2021</th>\n",
       "      <td>7</td>\n",
       "    </tr>\n",
       "    <tr>\n",
       "      <th>Nov 27, 2021</th>\n",
       "      <td>5</td>\n",
       "    </tr>\n",
       "    <tr>\n",
       "      <th>Jun 30, 2017</th>\n",
       "      <td>4</td>\n",
       "    </tr>\n",
       "    <tr>\n",
       "      <th>Nov 30, 2020</th>\n",
       "      <td>4</td>\n",
       "    </tr>\n",
       "    <tr>\n",
       "      <th>May 31, 2020</th>\n",
       "      <td>3</td>\n",
       "    </tr>\n",
       "    <tr>\n",
       "      <th>Jun 23, 2021</th>\n",
       "      <td>3</td>\n",
       "    </tr>\n",
       "    <tr>\n",
       "      <th>Dec 31, 2019</th>\n",
       "      <td>2</td>\n",
       "    </tr>\n",
       "    <tr>\n",
       "      <th>May 31, 2019</th>\n",
       "      <td>2</td>\n",
       "    </tr>\n",
       "    <tr>\n",
       "      <th>Jun 1, 2021</th>\n",
       "      <td>2</td>\n",
       "    </tr>\n",
       "    <tr>\n",
       "      <th>Jan 3, 2021</th>\n",
       "      <td>2</td>\n",
       "    </tr>\n",
       "    <tr>\n",
       "      <th>May 31, 2018</th>\n",
       "      <td>2</td>\n",
       "    </tr>\n",
       "    <tr>\n",
       "      <th>Jan 2, 2016</th>\n",
       "      <td>1</td>\n",
       "    </tr>\n",
       "    <tr>\n",
       "      <th>May 31, 2022</th>\n",
       "      <td>1</td>\n",
       "    </tr>\n",
       "    <tr>\n",
       "      <th>Jun 30, 2023</th>\n",
       "      <td>1</td>\n",
       "    </tr>\n",
       "    <tr>\n",
       "      <th>Jul 1, 2021</th>\n",
       "      <td>1</td>\n",
       "    </tr>\n",
       "    <tr>\n",
       "      <th>May 25, 2016</th>\n",
       "      <td>1</td>\n",
       "    </tr>\n",
       "    <tr>\n",
       "      <th>Jul 31, 2021</th>\n",
       "      <td>1</td>\n",
       "    </tr>\n",
       "    <tr>\n",
       "      <th>Jan 4, 2021</th>\n",
       "      <td>1</td>\n",
       "    </tr>\n",
       "    <tr>\n",
       "      <th>Jan 30, 2021</th>\n",
       "      <td>1</td>\n",
       "    </tr>\n",
       "    <tr>\n",
       "      <th>Aug 31, 2020</th>\n",
       "      <td>1</td>\n",
       "    </tr>\n",
       "    <tr>\n",
       "      <th>Jun 30, 2015</th>\n",
       "      <td>1</td>\n",
       "    </tr>\n",
       "    <tr>\n",
       "      <th>Jul 5, 2021</th>\n",
       "      <td>1</td>\n",
       "    </tr>\n",
       "    <tr>\n",
       "      <th>Aug 31, 2021</th>\n",
       "      <td>1</td>\n",
       "    </tr>\n",
       "    <tr>\n",
       "      <th>Jun 30, 2014</th>\n",
       "      <td>1</td>\n",
       "    </tr>\n",
       "    <tr>\n",
       "      <th>Dec 30, 2021</th>\n",
       "      <td>1</td>\n",
       "    </tr>\n",
       "  </tbody>\n",
       "</table>\n",
       "</div>"
      ],
      "text/plain": [
       "              Loan Date End\n",
       "Jun 30, 2021            370\n",
       "Jun 30, 2020             72\n",
       "Dec 31, 2020             55\n",
       "Jun 30, 2019             19\n",
       "Jun 30, 2018             17\n",
       "May 31, 2021             15\n",
       "Dec 31, 2021             12\n",
       "Jan 31, 2021             11\n",
       "Jun 30, 2022              8\n",
       "Jan 1, 2021               7\n",
       "Nov 27, 2021              5\n",
       "Jun 30, 2017              4\n",
       "Nov 30, 2020              4\n",
       "May 31, 2020              3\n",
       "Jun 23, 2021              3\n",
       "Dec 31, 2019              2\n",
       "May 31, 2019              2\n",
       "Jun 1, 2021               2\n",
       "Jan 3, 2021               2\n",
       "May 31, 2018              2\n",
       "Jan 2, 2016               1\n",
       "May 31, 2022              1\n",
       "Jun 30, 2023              1\n",
       "Jul 1, 2021               1\n",
       "May 25, 2016              1\n",
       "Jul 31, 2021              1\n",
       "Jan 4, 2021               1\n",
       "Jan 30, 2021              1\n",
       "Aug 31, 2020              1\n",
       "Jun 30, 2015              1\n",
       "Jul 5, 2021               1\n",
       "Aug 31, 2021              1\n",
       "Jun 30, 2014              1\n",
       "Dec 30, 2021              1"
      ]
     },
     "metadata": {},
     "output_type": "display_data"
    },
    {
     "name": "stdout",
     "output_type": "stream",
     "text": [
      "<class 'pandas.core.frame.DataFrame'>\n",
      "Index: 34 entries, Jun 30, 2021 to Dec 30, 2021\n",
      "Data columns (total 1 columns):\n",
      " #   Column         Non-Null Count  Dtype\n",
      "---  ------         --------------  -----\n",
      " 0   Loan Date End  34 non-null     int64\n",
      "dtypes: int64(1)\n",
      "memory usage: 544.0+ bytes\n"
     ]
    }
   ],
   "source": [
    "Club=pd.DataFrame(df_new_categorical['Loan Date End'].value_counts())\n",
    "display(Club)\n",
    "Club.info()"
   ]
  },
  {
   "cell_type": "code",
   "execution_count": 192,
   "metadata": {},
   "outputs": [],
   "source": [
    "df_new_categorical = df_new_categorical.drop(columns=[\"Loan Date End\"])"
   ]
  },
  {
   "cell_type": "code",
   "execution_count": 199,
   "metadata": {},
   "outputs": [
    {
     "data": {
      "text/plain": [
       "Index(['Name', 'Nationality', 'Club', 'BP', 'Position', 'Team & Contract',\n",
       "       'Height', 'Weight', 'foot', 'Joined', 'Value', 'Wage', 'Release Clause',\n",
       "       'Contract', 'W/F', 'SM', 'A/W', 'D/W', 'IR', 'Hits', 'LS', 'ST', 'RS',\n",
       "       'LW', 'LF', 'CF', 'RF', 'RW', 'LAM', 'CAM', 'RAM', 'LM', 'LCM', 'CM',\n",
       "       'RCM', 'RM', 'LWB', 'LDM', 'CDM', 'RDM', 'RWB', 'LB', 'LCB', 'CB',\n",
       "       'RCB', 'RB', 'GK'],\n",
       "      dtype='object')"
      ]
     },
     "execution_count": 199,
     "metadata": {},
     "output_type": "execute_result"
    }
   ],
   "source": [
    "df_new_categorical.columns"
   ]
  },
  {
   "cell_type": "code",
   "execution_count": 197,
   "metadata": {},
   "outputs": [],
   "source": [
    "#df_new_numerical.columns"
   ]
  },
  {
   "cell_type": "code",
   "execution_count": null,
   "metadata": {},
   "outputs": [],
   "source": [
    "df_new_categorical.rename(columns={})"
   ]
  },
  {
   "cell_type": "code",
   "execution_count": 196,
   "metadata": {},
   "outputs": [
    {
     "ename": "IndentationError",
     "evalue": "unexpected indent (<ipython-input-196-5abf7f5849d7>, line 3)",
     "output_type": "error",
     "traceback": [
      "\u001b[1;36m  File \u001b[1;32m\"<ipython-input-196-5abf7f5849d7>\"\u001b[1;36m, line \u001b[1;32m3\u001b[0m\n\u001b[1;33m    1:'Education',\u001b[0m\n\u001b[1;37m    ^\u001b[0m\n\u001b[1;31mIndentationError\u001b[0m\u001b[1;31m:\u001b[0m unexpected indent\n"
     ]
    }
   ],
   "source": [
    "# renaming columns\n",
    " #en_cat_ord= en_cat_ord.rename(columns={0:'Coverage',\n",
    "                                       1:'Education',\n",
    "                                       2:'Policy Type',\n",
    "                                       3:'Policy',\n",
    "                                       4:'Renew Offer Type',\n",
    "                                       5:'Vehicle Class',\n",
    "                                       6:'Vehicle Size'})\n",
    "\n",
    "#display(en_cat_ord.head(5))\n"
   ]
  },
  {
   "cell_type": "code",
   "execution_count": null,
   "metadata": {},
   "outputs": [],
   "source": []
  }
 ],
 "metadata": {
  "kernelspec": {
   "display_name": "Python 3",
   "language": "python",
   "name": "python3"
  },
  "language_info": {
   "codemirror_mode": {
    "name": "ipython",
    "version": 3
   },
   "file_extension": ".py",
   "mimetype": "text/x-python",
   "name": "python",
   "nbconvert_exporter": "python",
   "pygments_lexer": "ipython3",
   "version": "3.8.3"
  }
 },
 "nbformat": 4,
 "nbformat_minor": 4
}
